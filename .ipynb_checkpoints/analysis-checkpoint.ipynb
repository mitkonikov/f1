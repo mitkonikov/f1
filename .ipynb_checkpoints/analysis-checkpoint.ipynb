{
 "cells": [
  {
   "cell_type": "code",
   "execution_count": 1,
   "metadata": {},
   "outputs": [],
   "source": [
    "import pandas as pd\n",
    "import matplotlib.pyplot as plt\n",
    "import scipy.stats as stats\n",
    "import pandas as pd\n",
    "import numpy as np\n",
    "from scipy.stats import ttest_ind, mannwhitneyu\n",
    "from scipy.stats import shapiro, kstest\n",
    "from scipy.stats import f_oneway, kruskal, bartlett, levene\n",
    "\n",
    "pd.set_option('display.width', 1000)\n",
    "pd.set_option('display.max_columns', None)"
   ]
  },
  {
   "cell_type": "markdown",
   "metadata": {},
   "source": [
    "### Utility functions"
   ]
  },
  {
   "cell_type": "code",
   "execution_count": null,
   "metadata": {},
   "outputs": [],
   "source": [
    "# Check if the data is normally distributed\n",
    "def is_normal(data):\n",
    "    if len(data) < 50:\n",
    "        _, p = shapiro(data)\n",
    "    else:\n",
    "        _, p = kstest(data, 'norm', args=(data.mean(), data.std()))\n",
    "    return p > 0.05\n",
    "\n",
    "# Perform either t-test or mann whitney\n",
    "def perform_test(group1, group2, test_type):\n",
    "    if test_type == 't-test':\n",
    "        stat, p = ttest_ind(group1, group2, equal_var=False)\n",
    "    else:\n",
    "        stat, p = mannwhitneyu(group1, group2, alternative='two-sided')\n",
    "    return stat, p\n",
    "\n",
    "# Is the variance equal?\n",
    "def variance_test(data, normal):\n",
    "    if normal:\n",
    "        stat, p = bartlett(*data)\n",
    "    else:\n",
    "        stat, p = levene(*data)\n",
    "    return p > 0.05\n",
    "\n",
    "# Perform ANOVA or Kruskal\n",
    "def perform_anova_kruskal(groups, test_type):\n",
    "    if test_type == 'ANOVA':\n",
    "        stat, p = f_oneway(*groups)\n",
    "    else:\n",
    "        stat, p = kruskal(*groups)\n",
    "    return stat, p"
   ]
  },
  {
   "cell_type": "markdown",
   "metadata": {},
   "source": [
    "#### Importing the datasets"
   ]
  },
  {
   "cell_type": "code",
   "execution_count": 2,
   "metadata": {},
   "outputs": [],
   "source": [
    "circuits = pd.read_csv('./f1_dataset/circuits.csv')\n",
    "constructor_results = pd.read_csv('./f1_dataset/constructor_results.csv')\n",
    "constructor_standings = pd.read_csv('./f1_dataset/constructor_standings.csv')\n",
    "constructors = pd.read_csv('./f1_dataset/constructors.csv')\n",
    "driver_standings = pd.read_csv('./f1_dataset/driver_standings.csv')\n",
    "drivers = pd.read_csv('./f1_dataset/drivers.csv')\n",
    "lap_times = pd.read_csv('./f1_dataset/lap_times.csv')\n",
    "pit_stops = pd.read_csv('./f1_dataset/pit_stops.csv')\n",
    "qualifying = pd.read_csv('./f1_dataset/qualifying.csv')\n",
    "races = pd.read_csv('./f1_dataset/races.csv')\n",
    "results = pd.read_csv('./f1_dataset/results.csv')\n",
    "seasons = pd.read_csv('./f1_dataset/seasons.csv')\n",
    "sprint_results = pd.read_csv('./f1_dataset/sprint_results.csv')\n",
    "status = pd.read_csv('./f1_dataset/status.csv')"
   ]
  },
  {
   "cell_type": "markdown",
   "metadata": {},
   "source": []
  }
 ],
 "metadata": {
  "kernelspec": {
   "display_name": "Python 3",
   "language": "python",
   "name": "python3"
  },
  "language_info": {
   "codemirror_mode": {
    "name": "ipython",
    "version": 3
   },
   "file_extension": ".py",
   "mimetype": "text/x-python",
   "name": "python",
   "nbconvert_exporter": "python",
   "pygments_lexer": "ipython3",
   "version": "3.12.1"
  }
 },
 "nbformat": 4,
 "nbformat_minor": 2
}
